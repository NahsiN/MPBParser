{
 "cells": [
  {
   "cell_type": "markdown",
   "metadata": {},
   "source": [
    "# Tutorial\n",
    "This assumes you have run the relevant .ctl files in the Examples directory.\n",
    "Author: Nishan Singh Mann"
   ]
  },
  {
   "cell_type": "markdown",
   "metadata": {},
   "source": [
    "@Matthew-Mcnish: You need to figure out how to open this file in your web browser. Start by typing `ipython3 notebook` in your terminal."
   ]
  },
  {
   "cell_type": "code",
   "execution_count": 2,
   "metadata": {
    "collapsed": true
   },
   "outputs": [],
   "source": [
    "from MPBParser import MPBBandStructure, readfield, getscale\n",
    "from misc_plotting_utilities import fourier_transform\n",
    "import matplotlib.pyplot as plt\n",
    "import matplotlib as mpl\n",
    "import numpy as np\n",
    "from plotsmpb import plotbands, plotfields, plotvg\n",
    "from math import sqrt\n",
    "import sys"
   ]
  },
  {
   "cell_type": "code",
   "execution_count": 3,
   "metadata": {
    "collapsed": true
   },
   "outputs": [],
   "source": [
    "%matplotlib inline"
   ]
  },
  {
   "cell_type": "markdown",
   "metadata": {},
   "source": [
    "# 1D PCs"
   ]
  },
  {
   "cell_type": "markdown",
   "metadata": {},
   "source": [
    "### GaAs Bulk\n",
    "Find in Examples/1D/GaAs_Bulk/\n",
    "We impose an artificial periodicity. Use this example to understand the concept of zone folding."
   ]
  },
  {
   "cell_type": "code",
   "execution_count": 30,
   "metadata": {
    "collapsed": true
   },
   "outputs": [],
   "source": [
    "# Initialize an instance of class MPBBandStructure\n",
    "mpb = MPBBandStructure('Examples/1D/GaAs_Bulk/run.out', '')"
   ]
  },
  {
   "cell_type": "code",
   "execution_count": 31,
   "metadata": {
    "collapsed": false
   },
   "outputs": [
    {
     "name": "stdout",
     "output_type": "stream",
     "text": [
      "Creating Examples/1D/GaAs_Bulk/freqs.csv\n",
      "Creating Examples/1D/GaAs_Bulk/velocities.csv\n"
     ]
    }
   ],
   "source": [
    "# Parse the output data into csv files\n",
    "mpb.csvparser()\n",
    "# At this point, you can use the .csv files to plot them in a program of your liking."
   ]
  },
  {
   "cell_type": "code",
   "execution_count": 32,
   "metadata": {
    "collapsed": false
   },
   "outputs": [
    {
     "name": "stdout",
     "output_type": "stream",
     "text": [
      "Opening Examples/1D/GaAs_Bulk/freqs.csv\n",
      "Opening Examples/1D/GaAs_Bulk/velocities.csv\n",
      "No velocity data in velocities csv file. Velocity attributes NOT created.\n",
      "Parsing of csv files complete. New data attributes created!\n"
     ]
    }
   ],
   "source": [
    "# Read the bandstructure data from the two .csv files\n",
    "mpb.readbanddata()"
   ]
  },
  {
   "cell_type": "code",
   "execution_count": 33,
   "metadata": {
    "collapsed": false
   },
   "outputs": [
    {
     "data": {
      "text/plain": [
       "22"
      ]
     },
     "execution_count": 33,
     "metadata": {},
     "output_type": "execute_result"
    }
   ],
   "source": [
    "# At this point, you should use the TAB autocompletion feature of IPython to examine the new data attributes.\n",
    "# For example, let's look at the number of k-points\n",
    "mpb.numK"
   ]
  },
  {
   "cell_type": "code",
   "execution_count": 34,
   "metadata": {
    "collapsed": false
   },
   "outputs": [
    {
     "data": {
      "text/plain": [
       "(22, 4)"
      ]
     },
     "execution_count": 34,
     "metadata": {},
     "output_type": "execute_result"
    }
   ],
   "source": [
    "# The frequencies are stored as a tuple (k index, band index)\n",
    "np.shape(mpb.freqs)"
   ]
  },
  {
   "cell_type": "code",
   "execution_count": 35,
   "metadata": {
    "collapsed": false
   },
   "outputs": [
    {
     "data": {
      "image/png": "[encoded data removed]",
      "text/plain": [
       "<matplotlib.figure.Figure at 0x7fca22dc26d8>"
      ]
     },
     "metadata": {},
     "output_type": "display_data"
    }
   ],
   "source": [
    "# Let us look at the bandstructure. At this point, take a pause and understand zone folding\n",
    "plotbands(mpb)"
   ]
  },
  {
   "cell_type": "code",
   "execution_count": 29,
   "metadata": {
    "collapsed": false
   },
   "outputs": [
    {
     "data": {
      "text/plain": [
       "4"
      ]
     },
     "execution_count": 29,
     "metadata": {},
     "output_type": "execute_result"
    }
   ],
   "source": [
    "# In this case, there are 4 bands but for now, plotbands plots all bands using the same colour (blue)\n",
    "mpb.numBands"
   ]
  },
  {
   "cell_type": "code",
   "execution_count": 17,
   "metadata": {
    "collapsed": true
   },
   "outputs": [],
   "source": []
  },
  {
   "cell_type": "code",
   "execution_count": null,
   "metadata": {
    "collapsed": true
   },
   "outputs": [],
   "source": []
  }
 ],
 "metadata": {
  "kernelspec": {
   "display_name": "Python 3",
   "language": "python",
   "name": "python3"
  },
  "language_info": {
   "codemirror_mode": {
    "name": "ipython",
    "version": 3
   },
   "file_extension": ".py",
   "mimetype": "text/x-python",
   "name": "python",
   "nbconvert_exporter": "python",
   "pygments_lexer": "ipython3",
   "version": "3.5.2"
  }
 },
 "nbformat": 4,
 "nbformat_minor": 1
}
